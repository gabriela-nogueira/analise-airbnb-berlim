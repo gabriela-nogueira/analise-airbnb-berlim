{
 "cells": [
  {
   "cell_type": "markdown",
   "metadata": {},
   "source": [
    "<img style=\"float: left;opacity:0.5;\" src=\"img/airbnb-logo.png\"><img style=\"float: right;opacity:0.5;\" src=\"img/logo.png\">"
   ]
  },
  {
   "cell_type": "markdown",
   "metadata": {},
   "source": [
    "<h1 style=\"color:#c93658;\"> Analisando Dados do Airbnb - Berlim | Alemanha </h1>\n",
    "\n",
    "O Airbnb é uma plataforma onde anfitriões podem anunciar suas acomodações de qualquer parte do mundo, para que viajantes ou até moradores locais possam ficar hospedados. Diante de toda informação disponível no site, Murray Cox construiu o <a style=\"color:#ea9085;text-decoration:none;\" href=\"http://insideairbnb.com/\">Inside Airbnb</a>, um projeto que extraiu as informações públicas disponíveis no Airbnb de diversas cidades para que possam ser utilizados para a análise. Você pode encontrar datasets de outras cidades na aba <a style=\"color:#ea9085;text-decoration:none;\" href=\"http://insideairbnb.com/get-the-data.html\">Get the Data</a>."
   ]
  },
  {
   "cell_type": "markdown",
   "metadata": {},
   "source": [
    "<h2 style=\"color:#df869b;\">Índice do Projeto</h2> \n",
    "\n",
    "**1** - <a style=\"color:#651b2c; text-decoration:none;\" href=\"#sobre-berlim\">Sobre Berlim, Alemanha</a>   \n",
    "**2** - <a style=\"color:#651b2c; text-decoration:none;\" href=\"#Problema-a-ser-analisado\">Problema a ser analisado</a>  \n",
    "**3** - <a style=\"color:#651b2c; text-decoration:none;\" href=\"#obtencao-dos-dados\">Obtenção dos Dados</a>  \n",
    "**4** - <a style=\"color:#651b2c; text-decoration:none;\" href=\"#preprocessing\">Pré-processamento dos Dados</a>   \n",
    "&nbsp;&nbsp;&nbsp;&nbsp;&nbsp;&nbsp;**4.1** - <a style=\"color:#651b2c; text-decoration:none;\" href=\"#Deletando-os-valores-nulos\">Deletando valores nulos</a>  \n",
    "&nbsp;&nbsp;&nbsp;&nbsp;&nbsp;&nbsp;**4.2** - <a style=\"color:#651b2c; text-decoration:none;\" href=\"#Analisando-as-variaveis\">Analisando as variáveis</a>  \n",
    "&nbsp;&nbsp;&nbsp;&nbsp;&nbsp;&nbsp;**4.3** - <a style=\"color:#651b2c; text-decoration:none;\" href=\"#Detectando-e-tratando-outliers\">Detectando e tratando outliers</a>  \n",
    "**5** - <a style=\"color:#651b2c; text-decoration:none;\" href=\"#analise-dos-dados\">Análise dos Dados</a>   \n",
    "&nbsp;&nbsp;&nbsp;&nbsp;&nbsp;&nbsp;**5.1** - <a style=\"color:#651b2c; text-decoration:none;\" href=\"#media-diaria\">Qual a média da diária em Berlim?</a>  "
   ]
  },
  {
   "cell_type": "markdown",
   "metadata": {},
   "source": [
    "<a id=\"sobre-berlim\"></a><h2 style=\"color:#df869b;\"> Sobre Berlim, Alemanha </h2>\n",
    "<img src=\"img/germany.jpg\" style=\"opacity:0.80\">"
   ]
  },
  {
   "cell_type": "markdown",
   "metadata": {},
   "source": [
    "<h2 style=\"color:#df869b;\">Problema a ser analisado</h2>\n",
    "\n",
    "Se você atender os critérios do Airbnb para ser um anfitrião, isso possibilita de você anunciar seu apartamento, sua casa, ou até um quarto que está disponível para que outras pessoas possam alugar por um tempo determinado. Levando isso em consideração, iremos analisar as seguintes questões:  \n",
    "\n",
    "**- Qual a média da diária em Berlim?**  \n",
    "**- Quais são os bairros mais caros? E os mais baratos?**  \n",
    "**- De que forma as acomodações estão distribuidas pela cidade?**"
   ]
  },
  {
   "cell_type": "markdown",
   "metadata": {},
   "source": [
    "<a id=\"obtencao-dos-dados\"></a><h2 style=\"color:#df869b;\">Obtenção dos dados</h2>\n",
    "\n",
    "\n",
    "Os dados utilizados nesse projeto foi disponibilizado no site Inside Airbnb, o arquivo carregado foi o <a style=\"color:#ea9085;text-decoration:none;\" href=\"http://data.insideairbnb.com/germany/be/berlin/2020-05-14/data/listings.csv.gz\">lists.csv.gz</a> que contém os dados detalhados sobre a cidade de Berlim no Airbnb."
   ]
  },
  {
   "cell_type": "code",
   "execution_count": 1,
   "metadata": {},
   "outputs": [
    {
     "name": "stderr",
     "output_type": "stream",
     "text": [
      "c:\\users\\gabriela\\pictures\\datasc~1\\env\\lib\\site-packages\\IPython\\core\\interactiveshell.py:3063: DtypeWarning: Columns (43,61,62) have mixed types.Specify dtype option on import or set low_memory=False.\n",
      "  interactivity=interactivity, compiler=compiler, result=result)\n"
     ]
    },
    {
     "data": {
      "text/html": [
       "<div>\n",
       "<style scoped>\n",
       "    .dataframe tbody tr th:only-of-type {\n",
       "        vertical-align: middle;\n",
       "    }\n",
       "\n",
       "    .dataframe tbody tr th {\n",
       "        vertical-align: top;\n",
       "    }\n",
       "\n",
       "    .dataframe thead th {\n",
       "        text-align: right;\n",
       "    }\n",
       "</style>\n",
       "<table border=\"1\" class=\"dataframe\">\n",
       "  <thead>\n",
       "    <tr style=\"text-align: right;\">\n",
       "      <th></th>\n",
       "      <th>id</th>\n",
       "      <th>listing_url</th>\n",
       "      <th>scrape_id</th>\n",
       "      <th>last_scraped</th>\n",
       "      <th>name</th>\n",
       "      <th>summary</th>\n",
       "      <th>space</th>\n",
       "      <th>description</th>\n",
       "      <th>experiences_offered</th>\n",
       "      <th>neighborhood_overview</th>\n",
       "      <th>...</th>\n",
       "      <th>instant_bookable</th>\n",
       "      <th>is_business_travel_ready</th>\n",
       "      <th>cancellation_policy</th>\n",
       "      <th>require_guest_profile_picture</th>\n",
       "      <th>require_guest_phone_verification</th>\n",
       "      <th>calculated_host_listings_count</th>\n",
       "      <th>calculated_host_listings_count_entire_homes</th>\n",
       "      <th>calculated_host_listings_count_private_rooms</th>\n",
       "      <th>calculated_host_listings_count_shared_rooms</th>\n",
       "      <th>reviews_per_month</th>\n",
       "    </tr>\n",
       "  </thead>\n",
       "  <tbody>\n",
       "    <tr>\n",
       "      <th>0</th>\n",
       "      <td>2015</td>\n",
       "      <td>https://www.airbnb.com/rooms/2015</td>\n",
       "      <td>20200514190820</td>\n",
       "      <td>2020-05-15</td>\n",
       "      <td>Berlin-Mitte Value! Quiet courtyard/very central</td>\n",
       "      <td>Great location!  30 of 75 sq meters. This wood...</td>\n",
       "      <td>A+++ location! This „Einliegerwohnung“ is an e...</td>\n",
       "      <td>Great location!  30 of 75 sq meters. This wood...</td>\n",
       "      <td>none</td>\n",
       "      <td>It is located in the former East Berlin area o...</td>\n",
       "      <td>...</td>\n",
       "      <td>f</td>\n",
       "      <td>f</td>\n",
       "      <td>strict_14_with_grace_period</td>\n",
       "      <td>f</td>\n",
       "      <td>f</td>\n",
       "      <td>7</td>\n",
       "      <td>7</td>\n",
       "      <td>0</td>\n",
       "      <td>0</td>\n",
       "      <td>2.65</td>\n",
       "    </tr>\n",
       "    <tr>\n",
       "      <th>1</th>\n",
       "      <td>3176</td>\n",
       "      <td>https://www.airbnb.com/rooms/3176</td>\n",
       "      <td>20200514190820</td>\n",
       "      <td>2020-05-15</td>\n",
       "      <td>Fabulous Flat in great Location</td>\n",
       "      <td>This beautiful first floor apartment  is situa...</td>\n",
       "      <td>1st floor (68m2) apartment on Kollwitzplatz/ P...</td>\n",
       "      <td>This beautiful first floor apartment  is situa...</td>\n",
       "      <td>none</td>\n",
       "      <td>The neighbourhood is famous for its variety of...</td>\n",
       "      <td>...</td>\n",
       "      <td>f</td>\n",
       "      <td>f</td>\n",
       "      <td>strict_14_with_grace_period</td>\n",
       "      <td>f</td>\n",
       "      <td>f</td>\n",
       "      <td>1</td>\n",
       "      <td>1</td>\n",
       "      <td>0</td>\n",
       "      <td>0</td>\n",
       "      <td>1.09</td>\n",
       "    </tr>\n",
       "    <tr>\n",
       "      <th>2</th>\n",
       "      <td>3309</td>\n",
       "      <td>https://www.airbnb.com/rooms/3309</td>\n",
       "      <td>20200514190820</td>\n",
       "      <td>2020-05-15</td>\n",
       "      <td>BerlinSpot Schöneberg near KaDeWe</td>\n",
       "      <td>First of all: I prefer short-notice bookings. ...</td>\n",
       "      <td>Your room is really big and has 26 sqm, is ver...</td>\n",
       "      <td>First of all: I prefer short-notice bookings. ...</td>\n",
       "      <td>none</td>\n",
       "      <td>My flat is in the middle of West-Berlin, direc...</td>\n",
       "      <td>...</td>\n",
       "      <td>f</td>\n",
       "      <td>f</td>\n",
       "      <td>strict_14_with_grace_period</td>\n",
       "      <td>f</td>\n",
       "      <td>f</td>\n",
       "      <td>1</td>\n",
       "      <td>0</td>\n",
       "      <td>1</td>\n",
       "      <td>0</td>\n",
       "      <td>0.33</td>\n",
       "    </tr>\n",
       "    <tr>\n",
       "      <th>3</th>\n",
       "      <td>7071</td>\n",
       "      <td>https://www.airbnb.com/rooms/7071</td>\n",
       "      <td>20200514190820</td>\n",
       "      <td>2020-05-15</td>\n",
       "      <td>BrightRoom with sunny greenview!</td>\n",
       "      <td>Cozy and large room in the beautiful district ...</td>\n",
       "      <td>The BrightRoom is an approx. 20 sqm (215ft²), ...</td>\n",
       "      <td>Cozy and large room in the beautiful district ...</td>\n",
       "      <td>none</td>\n",
       "      <td>Great neighborhood with plenty of Cafés, Baker...</td>\n",
       "      <td>...</td>\n",
       "      <td>f</td>\n",
       "      <td>f</td>\n",
       "      <td>moderate</td>\n",
       "      <td>f</td>\n",
       "      <td>f</td>\n",
       "      <td>2</td>\n",
       "      <td>0</td>\n",
       "      <td>2</td>\n",
       "      <td>0</td>\n",
       "      <td>2.24</td>\n",
       "    </tr>\n",
       "    <tr>\n",
       "      <th>4</th>\n",
       "      <td>9991</td>\n",
       "      <td>https://www.airbnb.com/rooms/9991</td>\n",
       "      <td>20200514190820</td>\n",
       "      <td>2020-05-15</td>\n",
       "      <td>Geourgeous flat - outstanding views</td>\n",
       "      <td>4 bedroom with very large windows and outstand...</td>\n",
       "      <td>THE APPARTMENT - 4 bedroom (US, Germany: 5 roo...</td>\n",
       "      <td>4 bedroom with very large windows and outstand...</td>\n",
       "      <td>none</td>\n",
       "      <td>Prenzlauer Berg is an amazing neighbourhood wh...</td>\n",
       "      <td>...</td>\n",
       "      <td>f</td>\n",
       "      <td>f</td>\n",
       "      <td>moderate</td>\n",
       "      <td>f</td>\n",
       "      <td>f</td>\n",
       "      <td>1</td>\n",
       "      <td>1</td>\n",
       "      <td>0</td>\n",
       "      <td>0</td>\n",
       "      <td>0.14</td>\n",
       "    </tr>\n",
       "  </tbody>\n",
       "</table>\n",
       "<p>5 rows × 106 columns</p>\n",
       "</div>"
      ],
      "text/plain": [
       "     id                        listing_url       scrape_id last_scraped  \\\n",
       "0  2015  https://www.airbnb.com/rooms/2015  20200514190820   2020-05-15   \n",
       "1  3176  https://www.airbnb.com/rooms/3176  20200514190820   2020-05-15   \n",
       "2  3309  https://www.airbnb.com/rooms/3309  20200514190820   2020-05-15   \n",
       "3  7071  https://www.airbnb.com/rooms/7071  20200514190820   2020-05-15   \n",
       "4  9991  https://www.airbnb.com/rooms/9991  20200514190820   2020-05-15   \n",
       "\n",
       "                                               name  \\\n",
       "0  Berlin-Mitte Value! Quiet courtyard/very central   \n",
       "1                   Fabulous Flat in great Location   \n",
       "2                 BerlinSpot Schöneberg near KaDeWe   \n",
       "3                  BrightRoom with sunny greenview!   \n",
       "4               Geourgeous flat - outstanding views   \n",
       "\n",
       "                                             summary  \\\n",
       "0  Great location!  30 of 75 sq meters. This wood...   \n",
       "1  This beautiful first floor apartment  is situa...   \n",
       "2  First of all: I prefer short-notice bookings. ...   \n",
       "3  Cozy and large room in the beautiful district ...   \n",
       "4  4 bedroom with very large windows and outstand...   \n",
       "\n",
       "                                               space  \\\n",
       "0  A+++ location! This „Einliegerwohnung“ is an e...   \n",
       "1  1st floor (68m2) apartment on Kollwitzplatz/ P...   \n",
       "2  Your room is really big and has 26 sqm, is ver...   \n",
       "3  The BrightRoom is an approx. 20 sqm (215ft²), ...   \n",
       "4  THE APPARTMENT - 4 bedroom (US, Germany: 5 roo...   \n",
       "\n",
       "                                         description experiences_offered  \\\n",
       "0  Great location!  30 of 75 sq meters. This wood...                none   \n",
       "1  This beautiful first floor apartment  is situa...                none   \n",
       "2  First of all: I prefer short-notice bookings. ...                none   \n",
       "3  Cozy and large room in the beautiful district ...                none   \n",
       "4  4 bedroom with very large windows and outstand...                none   \n",
       "\n",
       "                               neighborhood_overview  ... instant_bookable  \\\n",
       "0  It is located in the former East Berlin area o...  ...                f   \n",
       "1  The neighbourhood is famous for its variety of...  ...                f   \n",
       "2  My flat is in the middle of West-Berlin, direc...  ...                f   \n",
       "3  Great neighborhood with plenty of Cafés, Baker...  ...                f   \n",
       "4  Prenzlauer Berg is an amazing neighbourhood wh...  ...                f   \n",
       "\n",
       "  is_business_travel_ready          cancellation_policy  \\\n",
       "0                        f  strict_14_with_grace_period   \n",
       "1                        f  strict_14_with_grace_period   \n",
       "2                        f  strict_14_with_grace_period   \n",
       "3                        f                     moderate   \n",
       "4                        f                     moderate   \n",
       "\n",
       "  require_guest_profile_picture require_guest_phone_verification  \\\n",
       "0                             f                                f   \n",
       "1                             f                                f   \n",
       "2                             f                                f   \n",
       "3                             f                                f   \n",
       "4                             f                                f   \n",
       "\n",
       "   calculated_host_listings_count  \\\n",
       "0                               7   \n",
       "1                               1   \n",
       "2                               1   \n",
       "3                               2   \n",
       "4                               1   \n",
       "\n",
       "   calculated_host_listings_count_entire_homes  \\\n",
       "0                                            7   \n",
       "1                                            1   \n",
       "2                                            0   \n",
       "3                                            0   \n",
       "4                                            1   \n",
       "\n",
       "  calculated_host_listings_count_private_rooms  \\\n",
       "0                                            0   \n",
       "1                                            0   \n",
       "2                                            1   \n",
       "3                                            2   \n",
       "4                                            0   \n",
       "\n",
       "   calculated_host_listings_count_shared_rooms  reviews_per_month  \n",
       "0                                            0               2.65  \n",
       "1                                            0               1.09  \n",
       "2                                            0               0.33  \n",
       "3                                            0               2.24  \n",
       "4                                            0               0.14  \n",
       "\n",
       "[5 rows x 106 columns]"
      ]
     },
     "execution_count": 1,
     "metadata": {},
     "output_type": "execute_result"
    }
   ],
   "source": [
    "#importando as bibliotecas necessarias\n",
    "import pandas as pd\n",
    "import matplotlib.pyplot as plt\n",
    "\n",
    "#importando os dados para um dataframe\n",
    "df = pd.read_csv('data/listings.csv')\n",
    "\n",
    "#visualizando as primeiras entradas do dataframe\n",
    "df.head()"
   ]
  },
  {
   "cell_type": "markdown",
   "metadata": {},
   "source": [
    "<a name=\"preprocessing\" style=\"text-decoration:none;\"></a><h2 style=\"color:#df869b;\">Pré-processamento dos dados</h2>\n",
    "\n",
    "Nesta etapa iremos conhecer nossos dados, verificar possíveis outliers, valores faltantes ou inconsistências nos dados. Começaremos verificando com quantas entradas e variáveis estamos trabalhando:"
   ]
  },
  {
   "cell_type": "code",
   "execution_count": 2,
   "metadata": {},
   "outputs": [
    {
     "name": "stdout",
     "output_type": "stream",
     "text": [
      "Este dataset possui 24678 entradas  e 106 variáveis.\n"
     ]
    }
   ],
   "source": [
    "print('Este dataset possui {linhas} entradas  e {colunas} variáveis.'.format(linhas=df.shape[0], colunas=df.shape[1]))"
   ]
  },
  {
   "cell_type": "markdown",
   "metadata": {},
   "source": [
    "A qualidade dos nossos dados é um fator extremamente importante nas análises, com isso, iremos verificar sobre a ausência de dados faltantes e outliers."
   ]
  },
  {
   "cell_type": "code",
   "execution_count": 3,
   "metadata": {},
   "outputs": [
    {
     "data": {
      "text/html": [
       "<div>\n",
       "<style scoped>\n",
       "    .dataframe tbody tr th:only-of-type {\n",
       "        vertical-align: middle;\n",
       "    }\n",
       "\n",
       "    .dataframe tbody tr th {\n",
       "        vertical-align: top;\n",
       "    }\n",
       "\n",
       "    .dataframe thead th {\n",
       "        text-align: right;\n",
       "    }\n",
       "</style>\n",
       "<table border=\"1\" class=\"dataframe\">\n",
       "  <thead>\n",
       "    <tr style=\"text-align: right;\">\n",
       "      <th></th>\n",
       "      <th>name</th>\n",
       "      <th>summary</th>\n",
       "      <th>space</th>\n",
       "      <th>description</th>\n",
       "      <th>neighborhood_overview</th>\n",
       "      <th>notes</th>\n",
       "      <th>transit</th>\n",
       "      <th>access</th>\n",
       "      <th>interaction</th>\n",
       "      <th>house_rules</th>\n",
       "      <th>...</th>\n",
       "      <th>review_scores_rating</th>\n",
       "      <th>review_scores_accuracy</th>\n",
       "      <th>review_scores_cleanliness</th>\n",
       "      <th>review_scores_checkin</th>\n",
       "      <th>review_scores_communication</th>\n",
       "      <th>review_scores_location</th>\n",
       "      <th>review_scores_value</th>\n",
       "      <th>license</th>\n",
       "      <th>jurisdiction_names</th>\n",
       "      <th>reviews_per_month</th>\n",
       "    </tr>\n",
       "  </thead>\n",
       "  <tbody>\n",
       "    <tr>\n",
       "      <th>0</th>\n",
       "      <td>Berlin-Mitte Value! Quiet courtyard/very central</td>\n",
       "      <td>Great location!  30 of 75 sq meters. This wood...</td>\n",
       "      <td>A+++ location! This „Einliegerwohnung“ is an e...</td>\n",
       "      <td>Great location!  30 of 75 sq meters. This wood...</td>\n",
       "      <td>It is located in the former East Berlin area o...</td>\n",
       "      <td>This is my home, not a hotel. I rent out occas...</td>\n",
       "      <td>Close to U-Bahn U8 and U2 (metro), Trams M12, ...</td>\n",
       "      <td>Simple kitchen/cooking, refrigerator, microwav...</td>\n",
       "      <td>Always available</td>\n",
       "      <td>No parties No events No pets No smoking, not e...</td>\n",
       "      <td>...</td>\n",
       "      <td>93.0</td>\n",
       "      <td>10.0</td>\n",
       "      <td>9.0</td>\n",
       "      <td>10.0</td>\n",
       "      <td>10.0</td>\n",
       "      <td>10.0</td>\n",
       "      <td>9.0</td>\n",
       "      <td>NaN</td>\n",
       "      <td>NaN</td>\n",
       "      <td>2.65</td>\n",
       "    </tr>\n",
       "    <tr>\n",
       "      <th>1</th>\n",
       "      <td>Fabulous Flat in great Location</td>\n",
       "      <td>This beautiful first floor apartment  is situa...</td>\n",
       "      <td>1st floor (68m2) apartment on Kollwitzplatz/ P...</td>\n",
       "      <td>This beautiful first floor apartment  is situa...</td>\n",
       "      <td>The neighbourhood is famous for its variety of...</td>\n",
       "      <td>We welcome FAMILIES and cater especially for y...</td>\n",
       "      <td>We are 5 min walk  away from the tram M2, whic...</td>\n",
       "      <td>The apartment will be entirely yours. We are c...</td>\n",
       "      <td>Feel free to ask any questions prior to bookin...</td>\n",
       "      <td>It’s a non smoking flat, which likes to be tre...</td>\n",
       "      <td>...</td>\n",
       "      <td>93.0</td>\n",
       "      <td>9.0</td>\n",
       "      <td>9.0</td>\n",
       "      <td>9.0</td>\n",
       "      <td>9.0</td>\n",
       "      <td>10.0</td>\n",
       "      <td>9.0</td>\n",
       "      <td>NaN</td>\n",
       "      <td>NaN</td>\n",
       "      <td>1.09</td>\n",
       "    </tr>\n",
       "    <tr>\n",
       "      <th>2</th>\n",
       "      <td>BerlinSpot Schöneberg near KaDeWe</td>\n",
       "      <td>First of all: I prefer short-notice bookings. ...</td>\n",
       "      <td>Your room is really big and has 26 sqm, is ver...</td>\n",
       "      <td>First of all: I prefer short-notice bookings. ...</td>\n",
       "      <td>My flat is in the middle of West-Berlin, direc...</td>\n",
       "      <td>The flat is a strictly non-smoking facility! A...</td>\n",
       "      <td>The public transportation is excellent: Severa...</td>\n",
       "      <td>I do have a strictly non-smoker-flat.  Keep th...</td>\n",
       "      <td>I'm working as a freelancing photographer. My ...</td>\n",
       "      <td>House-Rules and Information ..............(deu...</td>\n",
       "      <td>...</td>\n",
       "      <td>89.0</td>\n",
       "      <td>9.0</td>\n",
       "      <td>9.0</td>\n",
       "      <td>9.0</td>\n",
       "      <td>10.0</td>\n",
       "      <td>9.0</td>\n",
       "      <td>9.0</td>\n",
       "      <td>NaN</td>\n",
       "      <td>NaN</td>\n",
       "      <td>0.33</td>\n",
       "    </tr>\n",
       "    <tr>\n",
       "      <th>3</th>\n",
       "      <td>BrightRoom with sunny greenview!</td>\n",
       "      <td>Cozy and large room in the beautiful district ...</td>\n",
       "      <td>The BrightRoom is an approx. 20 sqm (215ft²), ...</td>\n",
       "      <td>Cozy and large room in the beautiful district ...</td>\n",
       "      <td>Great neighborhood with plenty of Cafés, Baker...</td>\n",
       "      <td>I hope you enjoy your stay to the fullest! Ple...</td>\n",
       "      <td>Best access to other parts of the city via pub...</td>\n",
       "      <td>The guests have access to the bathroom, a smal...</td>\n",
       "      <td>I am glad if I can give you advice or help as ...</td>\n",
       "      <td>Please take good care of everything during you...</td>\n",
       "      <td>...</td>\n",
       "      <td>97.0</td>\n",
       "      <td>10.0</td>\n",
       "      <td>10.0</td>\n",
       "      <td>10.0</td>\n",
       "      <td>10.0</td>\n",
       "      <td>10.0</td>\n",
       "      <td>9.0</td>\n",
       "      <td>NaN</td>\n",
       "      <td>NaN</td>\n",
       "      <td>2.24</td>\n",
       "    </tr>\n",
       "    <tr>\n",
       "      <th>4</th>\n",
       "      <td>Geourgeous flat - outstanding views</td>\n",
       "      <td>4 bedroom with very large windows and outstand...</td>\n",
       "      <td>THE APPARTMENT - 4 bedroom (US, Germany: 5 roo...</td>\n",
       "      <td>4 bedroom with very large windows and outstand...</td>\n",
       "      <td>Prenzlauer Berg is an amazing neighbourhood wh...</td>\n",
       "      <td>NaN</td>\n",
       "      <td>Excellent location regarding public transport ...</td>\n",
       "      <td>All amenities shared - nothing off limits</td>\n",
       "      <td>Guests will have the whole apartment to themse...</td>\n",
       "      <td>NaN</td>\n",
       "      <td>...</td>\n",
       "      <td>100.0</td>\n",
       "      <td>10.0</td>\n",
       "      <td>10.0</td>\n",
       "      <td>10.0</td>\n",
       "      <td>10.0</td>\n",
       "      <td>10.0</td>\n",
       "      <td>10.0</td>\n",
       "      <td>03/Z/RA/003410-18</td>\n",
       "      <td>NaN</td>\n",
       "      <td>0.14</td>\n",
       "    </tr>\n",
       "  </tbody>\n",
       "</table>\n",
       "<p>5 rows × 53 columns</p>\n",
       "</div>"
      ],
      "text/plain": [
       "                                               name  \\\n",
       "0  Berlin-Mitte Value! Quiet courtyard/very central   \n",
       "1                   Fabulous Flat in great Location   \n",
       "2                 BerlinSpot Schöneberg near KaDeWe   \n",
       "3                  BrightRoom with sunny greenview!   \n",
       "4               Geourgeous flat - outstanding views   \n",
       "\n",
       "                                             summary  \\\n",
       "0  Great location!  30 of 75 sq meters. This wood...   \n",
       "1  This beautiful first floor apartment  is situa...   \n",
       "2  First of all: I prefer short-notice bookings. ...   \n",
       "3  Cozy and large room in the beautiful district ...   \n",
       "4  4 bedroom with very large windows and outstand...   \n",
       "\n",
       "                                               space  \\\n",
       "0  A+++ location! This „Einliegerwohnung“ is an e...   \n",
       "1  1st floor (68m2) apartment on Kollwitzplatz/ P...   \n",
       "2  Your room is really big and has 26 sqm, is ver...   \n",
       "3  The BrightRoom is an approx. 20 sqm (215ft²), ...   \n",
       "4  THE APPARTMENT - 4 bedroom (US, Germany: 5 roo...   \n",
       "\n",
       "                                         description  \\\n",
       "0  Great location!  30 of 75 sq meters. This wood...   \n",
       "1  This beautiful first floor apartment  is situa...   \n",
       "2  First of all: I prefer short-notice bookings. ...   \n",
       "3  Cozy and large room in the beautiful district ...   \n",
       "4  4 bedroom with very large windows and outstand...   \n",
       "\n",
       "                               neighborhood_overview  \\\n",
       "0  It is located in the former East Berlin area o...   \n",
       "1  The neighbourhood is famous for its variety of...   \n",
       "2  My flat is in the middle of West-Berlin, direc...   \n",
       "3  Great neighborhood with plenty of Cafés, Baker...   \n",
       "4  Prenzlauer Berg is an amazing neighbourhood wh...   \n",
       "\n",
       "                                               notes  \\\n",
       "0  This is my home, not a hotel. I rent out occas...   \n",
       "1  We welcome FAMILIES and cater especially for y...   \n",
       "2  The flat is a strictly non-smoking facility! A...   \n",
       "3  I hope you enjoy your stay to the fullest! Ple...   \n",
       "4                                                NaN   \n",
       "\n",
       "                                             transit  \\\n",
       "0  Close to U-Bahn U8 and U2 (metro), Trams M12, ...   \n",
       "1  We are 5 min walk  away from the tram M2, whic...   \n",
       "2  The public transportation is excellent: Severa...   \n",
       "3  Best access to other parts of the city via pub...   \n",
       "4  Excellent location regarding public transport ...   \n",
       "\n",
       "                                              access  \\\n",
       "0  Simple kitchen/cooking, refrigerator, microwav...   \n",
       "1  The apartment will be entirely yours. We are c...   \n",
       "2  I do have a strictly non-smoker-flat.  Keep th...   \n",
       "3  The guests have access to the bathroom, a smal...   \n",
       "4          All amenities shared - nothing off limits   \n",
       "\n",
       "                                         interaction  \\\n",
       "0                                   Always available   \n",
       "1  Feel free to ask any questions prior to bookin...   \n",
       "2  I'm working as a freelancing photographer. My ...   \n",
       "3  I am glad if I can give you advice or help as ...   \n",
       "4  Guests will have the whole apartment to themse...   \n",
       "\n",
       "                                         house_rules  ...  \\\n",
       "0  No parties No events No pets No smoking, not e...  ...   \n",
       "1  It’s a non smoking flat, which likes to be tre...  ...   \n",
       "2  House-Rules and Information ..............(deu...  ...   \n",
       "3  Please take good care of everything during you...  ...   \n",
       "4                                                NaN  ...   \n",
       "\n",
       "   review_scores_rating  review_scores_accuracy  review_scores_cleanliness  \\\n",
       "0                  93.0                    10.0                        9.0   \n",
       "1                  93.0                     9.0                        9.0   \n",
       "2                  89.0                     9.0                        9.0   \n",
       "3                  97.0                    10.0                       10.0   \n",
       "4                 100.0                    10.0                       10.0   \n",
       "\n",
       "  review_scores_checkin review_scores_communication review_scores_location  \\\n",
       "0                  10.0                        10.0                   10.0   \n",
       "1                   9.0                         9.0                   10.0   \n",
       "2                   9.0                        10.0                    9.0   \n",
       "3                  10.0                        10.0                   10.0   \n",
       "4                  10.0                        10.0                   10.0   \n",
       "\n",
       "  review_scores_value            license jurisdiction_names reviews_per_month  \n",
       "0                 9.0                NaN                NaN              2.65  \n",
       "1                 9.0                NaN                NaN              1.09  \n",
       "2                 9.0                NaN                NaN              0.33  \n",
       "3                 9.0                NaN                NaN              2.24  \n",
       "4                10.0  03/Z/RA/003410-18                NaN              0.14  \n",
       "\n",
       "[5 rows x 53 columns]"
      ]
     },
     "execution_count": 3,
     "metadata": {},
     "output_type": "execute_result"
    }
   ],
   "source": [
    "nulos = [i for i in df.columns if df[i].isnull().any()]\n",
    "\n",
    "df_nulos = df[nulos].copy()\n",
    "\n",
    "df_nulos.head()"
   ]
  },
  {
   "cell_type": "markdown",
   "metadata": {},
   "source": [
    "De acordo com as questões levantadas na seção 'Questões a serem analisadas', iremos visualizar nossas features e selecionar as que melhor podem descrever nossos problemas."
   ]
  },
  {
   "cell_type": "code",
   "execution_count": 4,
   "metadata": {},
   "outputs": [
    {
     "data": {
      "text/plain": [
       "['id',\n",
       " 'listing_url',\n",
       " 'scrape_id',\n",
       " 'last_scraped',\n",
       " 'name',\n",
       " 'summary',\n",
       " 'space',\n",
       " 'description',\n",
       " 'experiences_offered',\n",
       " 'neighborhood_overview',\n",
       " 'notes',\n",
       " 'transit',\n",
       " 'access',\n",
       " 'interaction',\n",
       " 'house_rules',\n",
       " 'thumbnail_url',\n",
       " 'medium_url',\n",
       " 'picture_url',\n",
       " 'xl_picture_url',\n",
       " 'host_id',\n",
       " 'host_url',\n",
       " 'host_name',\n",
       " 'host_since',\n",
       " 'host_location',\n",
       " 'host_about',\n",
       " 'host_response_time',\n",
       " 'host_response_rate',\n",
       " 'host_acceptance_rate',\n",
       " 'host_is_superhost',\n",
       " 'host_thumbnail_url',\n",
       " 'host_picture_url',\n",
       " 'host_neighbourhood',\n",
       " 'host_listings_count',\n",
       " 'host_total_listings_count',\n",
       " 'host_verifications',\n",
       " 'host_has_profile_pic',\n",
       " 'host_identity_verified',\n",
       " 'street',\n",
       " 'neighbourhood',\n",
       " 'neighbourhood_cleansed',\n",
       " 'neighbourhood_group_cleansed',\n",
       " 'city',\n",
       " 'state',\n",
       " 'zipcode',\n",
       " 'market',\n",
       " 'smart_location',\n",
       " 'country_code',\n",
       " 'country',\n",
       " 'latitude',\n",
       " 'longitude',\n",
       " 'is_location_exact',\n",
       " 'property_type',\n",
       " 'room_type',\n",
       " 'accommodates',\n",
       " 'bathrooms',\n",
       " 'bedrooms',\n",
       " 'beds',\n",
       " 'bed_type',\n",
       " 'amenities',\n",
       " 'square_feet',\n",
       " 'price',\n",
       " 'weekly_price',\n",
       " 'monthly_price',\n",
       " 'security_deposit',\n",
       " 'cleaning_fee',\n",
       " 'guests_included',\n",
       " 'extra_people',\n",
       " 'minimum_nights',\n",
       " 'maximum_nights',\n",
       " 'minimum_minimum_nights',\n",
       " 'maximum_minimum_nights',\n",
       " 'minimum_maximum_nights',\n",
       " 'maximum_maximum_nights',\n",
       " 'minimum_nights_avg_ntm',\n",
       " 'maximum_nights_avg_ntm',\n",
       " 'calendar_updated',\n",
       " 'has_availability',\n",
       " 'availability_30',\n",
       " 'availability_60',\n",
       " 'availability_90',\n",
       " 'availability_365',\n",
       " 'calendar_last_scraped',\n",
       " 'number_of_reviews',\n",
       " 'number_of_reviews_ltm',\n",
       " 'first_review',\n",
       " 'last_review',\n",
       " 'review_scores_rating',\n",
       " 'review_scores_accuracy',\n",
       " 'review_scores_cleanliness',\n",
       " 'review_scores_checkin',\n",
       " 'review_scores_communication',\n",
       " 'review_scores_location',\n",
       " 'review_scores_value',\n",
       " 'requires_license',\n",
       " 'license',\n",
       " 'jurisdiction_names',\n",
       " 'instant_bookable',\n",
       " 'is_business_travel_ready',\n",
       " 'cancellation_policy',\n",
       " 'require_guest_profile_picture',\n",
       " 'require_guest_phone_verification',\n",
       " 'calculated_host_listings_count',\n",
       " 'calculated_host_listings_count_entire_homes',\n",
       " 'calculated_host_listings_count_private_rooms',\n",
       " 'calculated_host_listings_count_shared_rooms',\n",
       " 'reviews_per_month']"
      ]
     },
     "execution_count": 4,
     "metadata": {},
     "output_type": "execute_result"
    }
   ],
   "source": [
    "list(df.columns.values)"
   ]
  },
  {
   "cell_type": "code",
   "execution_count": 5,
   "metadata": {},
   "outputs": [],
   "source": [
    "df_clean = df[['experiences_offered', 'latitude', 'longitude', 'property_type','room_type',\n",
    "              'accommodates', 'bathrooms', 'bedrooms', 'price','neighbourhood','minimum_nights', 'maximum_nights']].copy()"
   ]
  },
  {
   "cell_type": "markdown",
   "metadata": {},
   "source": [
    "Depois de criar nosso dataframe, é hora de analisar a possível presença de valores nulos ou outliers."
   ]
  },
  {
   "cell_type": "code",
   "execution_count": 6,
   "metadata": {},
   "outputs": [
    {
     "data": {
      "text/plain": [
       "experiences_offered    0.000000\n",
       "latitude               0.000000\n",
       "longitude              0.000000\n",
       "property_type          0.000000\n",
       "room_type              0.000000\n",
       "accommodates           0.000000\n",
       "bathrooms              0.000851\n",
       "bedrooms               0.001864\n",
       "price                  0.000000\n",
       "neighbourhood          0.000000\n",
       "minimum_nights         0.000000\n",
       "maximum_nights         0.000000\n",
       "dtype: float64"
      ]
     },
     "execution_count": 6,
     "metadata": {},
     "output_type": "execute_result"
    }
   ],
   "source": [
    "df_clean.isnull().sum() / df_clean.shape[0]"
   ]
  },
  {
   "cell_type": "code",
   "execution_count": 7,
   "metadata": {},
   "outputs": [
    {
     "name": "stdout",
     "output_type": "stream",
     "text": [
      "A quantidade de valores nulos nas variáveis bathrooms e bedrooms são:\n",
      "Bathrooms: 21\n",
      "Bedrooms: 46\n",
      "Porcentagem de acordo com o tamanho do dataframe: 0.2714968798119783\n"
     ]
    }
   ],
   "source": [
    "bathroom_nan = df_clean.bathrooms.isnull().sum()\n",
    "bedrooms_nan = df_clean.bedrooms.isnull().sum()\n",
    "\n",
    "print(\"A quantidade de valores nulos nas variáveis bathrooms e bedrooms são:\")\n",
    "print(\"Bathrooms: {qntd}\".format(qntd = bathroom_nan))\n",
    "print(\"Bedrooms: {qntd}\".format(qntd = bedrooms_nan))\n",
    "print(\"Porcentagem de acordo com o tamanho do dataframe: {qntd}\".format(qntd = ((bathroom_nan + bedrooms_nan)/df_clean.shape[0])* 100 ))"
   ]
  },
  {
   "cell_type": "markdown",
   "metadata": {},
   "source": [
    "<h3 style=\"color:#c93658\">Deletando os valores nulos</h3>\n",
    "\n",
    "Como os valores nulos representam apenas 0,27% do nosso dataset, iremos deleta-los."
   ]
  },
  {
   "cell_type": "code",
   "execution_count": 8,
   "metadata": {},
   "outputs": [],
   "source": [
    "df_clean = df_clean.dropna()"
   ]
  },
  {
   "cell_type": "code",
   "execution_count": 9,
   "metadata": {},
   "outputs": [
    {
     "data": {
      "text/plain": [
       "experiences_offered    0\n",
       "latitude               0\n",
       "longitude              0\n",
       "property_type          0\n",
       "room_type              0\n",
       "accommodates           0\n",
       "bathrooms              0\n",
       "bedrooms               0\n",
       "price                  0\n",
       "neighbourhood          0\n",
       "minimum_nights         0\n",
       "maximum_nights         0\n",
       "dtype: int64"
      ]
     },
     "execution_count": 9,
     "metadata": {},
     "output_type": "execute_result"
    }
   ],
   "source": [
    "df_clean.isnull().sum()"
   ]
  },
  {
   "cell_type": "markdown",
   "metadata": {},
   "source": [
    "<h3 style=\"color:#c93658\">Analisando as variaveis</h3>"
   ]
  },
  {
   "cell_type": "code",
   "execution_count": 10,
   "metadata": {},
   "outputs": [
    {
     "name": "stdout",
     "output_type": "stream",
     "text": [
      "<class 'pandas.core.frame.DataFrame'>\n",
      "Int64Index: 24614 entries, 0 to 24677\n",
      "Data columns (total 12 columns):\n",
      " #   Column               Non-Null Count  Dtype  \n",
      "---  ------               --------------  -----  \n",
      " 0   experiences_offered  24614 non-null  object \n",
      " 1   latitude             24614 non-null  float64\n",
      " 2   longitude            24614 non-null  float64\n",
      " 3   property_type        24614 non-null  object \n",
      " 4   room_type            24614 non-null  object \n",
      " 5   accommodates         24614 non-null  int64  \n",
      " 6   bathrooms            24614 non-null  float64\n",
      " 7   bedrooms             24614 non-null  float64\n",
      " 8   price                24614 non-null  object \n",
      " 9   neighbourhood        24614 non-null  object \n",
      " 10  minimum_nights       24614 non-null  int64  \n",
      " 11  maximum_nights       24614 non-null  int64  \n",
      "dtypes: float64(4), int64(3), object(5)\n",
      "memory usage: 2.4+ MB\n"
     ]
    }
   ],
   "source": [
    "df_clean.info()"
   ]
  },
  {
   "cell_type": "markdown",
   "metadata": {},
   "source": [
    "A partir das informações do dataset, podemos ver que a variável `price` está como String. Vamos converter ela um tipo que possamos trabalhar com ela como valor."
   ]
  },
  {
   "cell_type": "code",
   "execution_count": 11,
   "metadata": {},
   "outputs": [],
   "source": [
    "df_clean['price'] = df_clean['price'].str.replace('$', '')"
   ]
  },
  {
   "cell_type": "code",
   "execution_count": 12,
   "metadata": {},
   "outputs": [],
   "source": [
    "df_clean['price'] = df_clean['price'].str.replace(',', '')"
   ]
  },
  {
   "cell_type": "code",
   "execution_count": 13,
   "metadata": {},
   "outputs": [],
   "source": [
    "df_clean['price'] = df_clean['price'].astype(float)"
   ]
  },
  {
   "cell_type": "code",
   "execution_count": 14,
   "metadata": {},
   "outputs": [
    {
     "data": {
      "text/plain": [
       "experiences_offered     object\n",
       "latitude               float64\n",
       "longitude              float64\n",
       "property_type           object\n",
       "room_type               object\n",
       "accommodates             int64\n",
       "bathrooms              float64\n",
       "bedrooms               float64\n",
       "price                  float64\n",
       "neighbourhood           object\n",
       "minimum_nights           int64\n",
       "maximum_nights           int64\n",
       "dtype: object"
      ]
     },
     "execution_count": 14,
     "metadata": {},
     "output_type": "execute_result"
    }
   ],
   "source": [
    "df_clean.dtypes"
   ]
  },
  {
   "cell_type": "markdown",
   "metadata": {},
   "source": [
    "Depois de conhecer um pouco sobre os tipos de variáveis que estamos trabalhando, vamos visualizar as variáveis numéricas a partir de histogramas:"
   ]
  },
  {
   "cell_type": "code",
   "execution_count": 15,
   "metadata": {},
   "outputs": [
    {
     "data": {
      "image/png": "[encoded data removed]",
      "text/plain": [
       "<Figure size 1080x720 with 9 Axes>"
      ]
     },
     "metadata": {
      "needs_background": "light"
     },
     "output_type": "display_data"
    }
   ],
   "source": [
    "df_clean.hist(figsize=(15,10));"
   ]
  },
  {
   "cell_type": "markdown",
   "metadata": {},
   "source": [
    "Visualizando estes histogramas, podemos verificar as seguintes inconsistências:  \n",
    "\n",
    "- O **minimo de noites** elevado, geralmente as pessoas alugam um local para ficar 2, 3 dias ou talvez um mês.  \n",
    "- O **preço** da diária está com alguns valores acima de mil dolares por dia.  \n",
    "\n",
    "Agora, iremos visualizar o boxplot para verificar os outliers."
   ]
  },
  {
   "cell_type": "markdown",
   "metadata": {},
   "source": [
    "<h3 style=\"color:#c93658\">Detectando e tratando outliers</h3>"
   ]
  },
  {
   "cell_type": "code",
   "execution_count": 16,
   "metadata": {},
   "outputs": [
    {
     "data": {
      "text/plain": [
       "<matplotlib.axes._subplots.AxesSubplot at 0x1bb4de23940>"
      ]
     },
     "execution_count": 16,
     "metadata": {},
     "output_type": "execute_result"
    },
    {
     "data": {
      "image/png": "[encoded data removed]",
      "text/plain": [
       "<Figure size 1080x720 with 1 Axes>"
      ]
     },
     "metadata": {
      "needs_background": "light"
     },
     "output_type": "display_data"
    }
   ],
   "source": [
    "df_clean.boxplot(column='minimum_nights', figsize=(15,10), vert=False)"
   ]
  },
  {
   "cell_type": "code",
   "execution_count": 17,
   "metadata": {},
   "outputs": [
    {
     "data": {
      "text/plain": [
       "<matplotlib.axes._subplots.AxesSubplot at 0x1bb4ebd8a58>"
      ]
     },
     "execution_count": 17,
     "metadata": {},
     "output_type": "execute_result"
    },
    {
     "data": {
      "image/png": "[encoded data removed]",
      "text/plain": [
       "<Figure size 1080x720 with 1 Axes>"
      ]
     },
     "metadata": {
      "needs_background": "light"
     },
     "output_type": "display_data"
    }
   ],
   "source": [
    "df_clean.boxplot(column='price', figsize=(15,10), vert=False)"
   ]
  },
  {
   "cell_type": "code",
   "execution_count": 18,
   "metadata": {},
   "outputs": [
    {
     "data": {
      "text/html": [
       "<div>\n",
       "<style scoped>\n",
       "    .dataframe tbody tr th:only-of-type {\n",
       "        vertical-align: middle;\n",
       "    }\n",
       "\n",
       "    .dataframe tbody tr th {\n",
       "        vertical-align: top;\n",
       "    }\n",
       "\n",
       "    .dataframe thead th {\n",
       "        text-align: right;\n",
       "    }\n",
       "</style>\n",
       "<table border=\"1\" class=\"dataframe\">\n",
       "  <thead>\n",
       "    <tr style=\"text-align: right;\">\n",
       "      <th></th>\n",
       "      <th>latitude</th>\n",
       "      <th>longitude</th>\n",
       "      <th>accommodates</th>\n",
       "      <th>bathrooms</th>\n",
       "      <th>bedrooms</th>\n",
       "      <th>price</th>\n",
       "      <th>minimum_nights</th>\n",
       "      <th>maximum_nights</th>\n",
       "    </tr>\n",
       "  </thead>\n",
       "  <tbody>\n",
       "    <tr>\n",
       "      <th>count</th>\n",
       "      <td>24614.000000</td>\n",
       "      <td>24614.000000</td>\n",
       "      <td>24614.000000</td>\n",
       "      <td>24614.000000</td>\n",
       "      <td>24614.000000</td>\n",
       "      <td>24614.000000</td>\n",
       "      <td>24614.000000</td>\n",
       "      <td>24614.000000</td>\n",
       "    </tr>\n",
       "    <tr>\n",
       "      <th>mean</th>\n",
       "      <td>52.510107</td>\n",
       "      <td>13.405864</td>\n",
       "      <td>2.693467</td>\n",
       "      <td>1.103965</td>\n",
       "      <td>1.162631</td>\n",
       "      <td>75.160031</td>\n",
       "      <td>7.390672</td>\n",
       "      <td>599.602340</td>\n",
       "    </tr>\n",
       "    <tr>\n",
       "      <th>std</th>\n",
       "      <td>0.031665</td>\n",
       "      <td>0.059834</td>\n",
       "      <td>1.590078</td>\n",
       "      <td>0.344994</td>\n",
       "      <td>0.676254</td>\n",
       "      <td>240.292750</td>\n",
       "      <td>27.998833</td>\n",
       "      <td>547.751502</td>\n",
       "    </tr>\n",
       "    <tr>\n",
       "      <th>min</th>\n",
       "      <td>52.340480</td>\n",
       "      <td>13.085630</td>\n",
       "      <td>1.000000</td>\n",
       "      <td>0.000000</td>\n",
       "      <td>0.000000</td>\n",
       "      <td>0.000000</td>\n",
       "      <td>1.000000</td>\n",
       "      <td>1.000000</td>\n",
       "    </tr>\n",
       "    <tr>\n",
       "      <th>25%</th>\n",
       "      <td>52.489100</td>\n",
       "      <td>13.373373</td>\n",
       "      <td>2.000000</td>\n",
       "      <td>1.000000</td>\n",
       "      <td>1.000000</td>\n",
       "      <td>35.000000</td>\n",
       "      <td>2.000000</td>\n",
       "      <td>21.000000</td>\n",
       "    </tr>\n",
       "    <tr>\n",
       "      <th>50%</th>\n",
       "      <td>52.509730</td>\n",
       "      <td>13.416110</td>\n",
       "      <td>2.000000</td>\n",
       "      <td>1.000000</td>\n",
       "      <td>1.000000</td>\n",
       "      <td>50.000000</td>\n",
       "      <td>3.000000</td>\n",
       "      <td>1123.000000</td>\n",
       "    </tr>\n",
       "    <tr>\n",
       "      <th>75%</th>\n",
       "      <td>52.533120</td>\n",
       "      <td>13.439588</td>\n",
       "      <td>3.000000</td>\n",
       "      <td>1.000000</td>\n",
       "      <td>1.000000</td>\n",
       "      <td>79.000000</td>\n",
       "      <td>4.000000</td>\n",
       "      <td>1125.000000</td>\n",
       "    </tr>\n",
       "    <tr>\n",
       "      <th>max</th>\n",
       "      <td>52.656630</td>\n",
       "      <td>13.758420</td>\n",
       "      <td>24.000000</td>\n",
       "      <td>8.000000</td>\n",
       "      <td>12.000000</td>\n",
       "      <td>9000.000000</td>\n",
       "      <td>1124.000000</td>\n",
       "      <td>10000.000000</td>\n",
       "    </tr>\n",
       "  </tbody>\n",
       "</table>\n",
       "</div>"
      ],
      "text/plain": [
       "           latitude     longitude  accommodates     bathrooms      bedrooms  \\\n",
       "count  24614.000000  24614.000000  24614.000000  24614.000000  24614.000000   \n",
       "mean      52.510107     13.405864      2.693467      1.103965      1.162631   \n",
       "std        0.031665      0.059834      1.590078      0.344994      0.676254   \n",
       "min       52.340480     13.085630      1.000000      0.000000      0.000000   \n",
       "25%       52.489100     13.373373      2.000000      1.000000      1.000000   \n",
       "50%       52.509730     13.416110      2.000000      1.000000      1.000000   \n",
       "75%       52.533120     13.439588      3.000000      1.000000      1.000000   \n",
       "max       52.656630     13.758420     24.000000      8.000000     12.000000   \n",
       "\n",
       "              price  minimum_nights  maximum_nights  \n",
       "count  24614.000000    24614.000000    24614.000000  \n",
       "mean      75.160031        7.390672      599.602340  \n",
       "std      240.292750       27.998833      547.751502  \n",
       "min        0.000000        1.000000        1.000000  \n",
       "25%       35.000000        2.000000       21.000000  \n",
       "50%       50.000000        3.000000     1123.000000  \n",
       "75%       79.000000        4.000000     1125.000000  \n",
       "max     9000.000000     1124.000000    10000.000000  "
      ]
     },
     "execution_count": 18,
     "metadata": {},
     "output_type": "execute_result"
    }
   ],
   "source": [
    "df_clean.describe()"
   ]
  },
  {
   "cell_type": "markdown",
   "metadata": {},
   "source": [
    "Ao analisar como estão distribuidos os dados pelos valores, conseguimos ver que 75% das acomodações estão entre 0 e 79 dólares e a quantidade mínima de noites estão entre 1 e 4.  \n",
    "\n",
    "Agora, iremos tratar as seguintes inconsistências:  \n",
    "\n",
    "*- Preços iguais a 0*    \n",
    "*- Preços maiores que $300*   \n",
    "*- Noites maiores que 7*  "
   ]
  },
  {
   "cell_type": "code",
   "execution_count": 19,
   "metadata": {},
   "outputs": [
    {
     "data": {
      "text/plain": [
       "6"
      ]
     },
     "execution_count": 19,
     "metadata": {},
     "output_type": "execute_result"
    }
   ],
   "source": [
    "# verificando quantidade de diária a $0\n",
    "\n",
    "(df_clean['price'] == 0).sum()"
   ]
  },
  {
   "cell_type": "code",
   "execution_count": 20,
   "metadata": {},
   "outputs": [
    {
     "data": {
      "text/plain": [
       "270"
      ]
     },
     "execution_count": 20,
     "metadata": {},
     "output_type": "execute_result"
    }
   ],
   "source": [
    "# verificando a quantidade de diárias maiores que $300 \n",
    "\n",
    "(df_clean['price'] > 300).sum()"
   ]
  },
  {
   "cell_type": "code",
   "execution_count": 21,
   "metadata": {},
   "outputs": [
    {
     "data": {
      "text/plain": [
       "2900"
      ]
     },
     "execution_count": 21,
     "metadata": {},
     "output_type": "execute_result"
    }
   ],
   "source": [
    "# verificando a quantidade de noites maiores que \n",
    "(df_clean['minimum_nights'] > 7).sum()"
   ]
  },
  {
   "cell_type": "code",
   "execution_count": 22,
   "metadata": {},
   "outputs": [
    {
     "data": {
      "text/plain": [
       "12.869762541534971"
      ]
     },
     "execution_count": 22,
     "metadata": {},
     "output_type": "execute_result"
    }
   ],
   "source": [
    "soma = ((df_clean['price'] == 0).sum()) + ((df_clean['price'] > 300).sum()) + ((df_clean['minimum_nights'] > 7).sum())\n",
    "porcentagem = (soma / df.shape[0]) * 100\n",
    "porcentagem"
   ]
  },
  {
   "cell_type": "code",
   "execution_count": 23,
   "metadata": {},
   "outputs": [],
   "source": [
    "df_clean = df_clean.drop(df_clean[df_clean['price'] == 0].index)"
   ]
  },
  {
   "cell_type": "code",
   "execution_count": 24,
   "metadata": {},
   "outputs": [],
   "source": [
    "df_clean = df_clean.drop(df_clean[df_clean['price'] > 300].index)"
   ]
  },
  {
   "cell_type": "code",
   "execution_count": 25,
   "metadata": {},
   "outputs": [],
   "source": [
    "df_clean = df_clean.drop(df_clean[df_clean['minimum_nights'] > 7].index)"
   ]
  },
  {
   "cell_type": "code",
   "execution_count": 26,
   "metadata": {},
   "outputs": [
    {
     "data": {
      "image/png": "[encoded data removed]",
      "text/plain": [
       "<Figure size 1080x720 with 9 Axes>"
      ]
     },
     "metadata": {
      "needs_background": "light"
     },
     "output_type": "display_data"
    }
   ],
   "source": [
    "df_clean.hist(figsize=(15,10));"
   ]
  },
  {
   "cell_type": "markdown",
   "metadata": {},
   "source": [
    "Antes de iniciar nossas análises, iremos salvar nosso dataframe com as mudanças feitas até aqui. Caso precise usar outra vez, não precisará da etapa de pré-processamento."
   ]
  },
  {
   "cell_type": "code",
   "execution_count": 27,
   "metadata": {},
   "outputs": [],
   "source": [
    "df_clean.to_csv('data/berlim_airbnb.csv')"
   ]
  },
  {
   "cell_type": "markdown",
   "metadata": {},
   "source": [
    "<a id=\"analise-dos-dados\"></a><h2 style=\"color:#df869b;\">Análise dos dados</h2>\n",
    "Depois do pré-processamento dos nossos dados, vamos começar a analisar nossos problemas.  \n",
    "\n",
    "<a id=\"media-diaria\"></a><h4 style=\"color:#c93658;\"> Qual a média da diária em Berlim? </h4>"
   ]
  },
  {
   "cell_type": "code",
   "execution_count": 28,
   "metadata": {},
   "outputs": [],
   "source": [
    "# criando uma cópia do nosso dataframe limpo\n",
    "df = df_clean.copy()"
   ]
  },
  {
   "cell_type": "code",
   "execution_count": 29,
   "metadata": {},
   "outputs": [
    {
     "name": "stdout",
     "output_type": "stream",
     "text": [
      "A média da diária em Berlim é $62.55\n"
     ]
    }
   ],
   "source": [
    "print('A média da diária em Berlim é ${valor}'.format(valor=round(df.price.mean(), 2)))"
   ]
  },
  {
   "cell_type": "markdown",
   "metadata": {},
   "source": [
    "Para uma melhor visualização iremos plotar um gráfico para a média dos bairros.  "
   ]
  },
  {
   "cell_type": "code",
   "execution_count": 55,
   "metadata": {},
   "outputs": [
    {
     "data": {
      "text/plain": [
       "{'Neukölln': 3173,\n",
       " 'Prenzlauer Berg': 2728,\n",
       " 'Friedrichshain': 2556,\n",
       " 'Kreuzberg': 2522,\n",
       " 'Mitte': 1968,\n",
       " 'Wedding': 1472,\n",
       " 'Schöneberg': 964,\n",
       " 'Charlottenburg': 781,\n",
       " 'Moabit': 768,\n",
       " 'Wilmersdorf': 436,\n",
       " 'Pankow': 279,\n",
       " 'Tempelhof': 262,\n",
       " 'Rummelsburg': 253,\n",
       " 'Weißensee': 231,\n",
       " 'Lichtenberg': 183,\n",
       " 'Tiergarten': 179,\n",
       " 'Alt-Treptow': 168,\n",
       " 'Reinickendorf': 145,\n",
       " 'Steglitz': 144,\n",
       " 'Westend': 133,\n",
       " 'Lichterfelde': 111,\n",
       " 'Friedrichsfelde': 97,\n",
       " 'Friedenau': 94,\n",
       " 'Britz': 86,\n",
       " 'Zehlendorf': 73,\n",
       " 'Baumschulenweg': 72,\n",
       " 'Köpenick': 70,\n",
       " 'Karlshorst': 68,\n",
       " 'Niederschönhausen': 65,\n",
       " 'Halensee': 60,\n",
       " 'Plänterwald': 57,\n",
       " 'Oberschöneweide': 55,\n",
       " 'Grunewald': 48,\n",
       " 'Tegel': 48,\n",
       " 'Fennpfuhl': 48,\n",
       " 'Mariendorf': 46,\n",
       " 'Alt-Hohenschönhausen': 45,\n",
       " 'Schmargendorf': 45,\n",
       " 'Hansaviertel': 40,\n",
       " 'Marzahn': 38,\n",
       " 'Biesdorf': 37,\n",
       " 'Rudow': 34,\n",
       " 'Potsdamer Platz': 32,\n",
       " 'Mahlsdorf': 31,\n",
       " 'Hakenfelde': 28,\n",
       " 'Rahnsdorf': 27,\n",
       " 'Wannsee': 26,\n",
       " 'Wittenau': 26,\n",
       " 'Buckow': 25,\n",
       " 'Dahlem': 25,\n",
       " 'Adlershof': 25,\n",
       " 'Johannisthal': 24,\n",
       " 'Lankwitz': 23,\n",
       " 'Französisch Buchholz': 23,\n",
       " 'Niederschöneweide': 23,\n",
       " 'Wilhelmstadt': 23,\n",
       " 'Hellersdorf': 22,\n",
       " 'Schmöckwitz': 20,\n",
       " 'Lichtenrade': 20,\n",
       " 'Friedrichshagen': 20,\n",
       " 'Altglienicke': 19,\n",
       " 'Nikolassee': 19,\n",
       " 'Karow': 17,\n",
       " 'Kladow': 16,\n",
       " 'Buch': 16,\n",
       " 'Hermsdorf': 16,\n",
       " 'Märkisches Viertel': 15,\n",
       " 'Kaulsdorf': 13,\n",
       " 'Grünau': 13,\n",
       " 'Marienfelde': 13,\n",
       " 'Heinersdorf': 12,\n",
       " 'Haselhorst': 12,\n",
       " 'Neu-Hohenschönhausen': 12,\n",
       " 'Rosenthal': 11,\n",
       " 'Heiligensee': 11,\n",
       " 'Spandau': 11,\n",
       " 'Frohnau': 11,\n",
       " 'Charlottenburg-Nord': 11,\n",
       " 'Bohnsdorf': 10,\n",
       " 'Müggelheim': 10,\n",
       " 'Gropiusstadt': 10,\n",
       " 'Blankenburg': 7,\n",
       " 'Staaken': 7,\n",
       " 'Siemensstadt': 6,\n",
       " 'Wilhelmsruh': 5,\n",
       " 'Wartenberg': 5,\n",
       " 'Waidmannslust': 5,\n",
       " 'Falkenhagener Feld': 5,\n",
       " 'Falkenberg': 3,\n",
       " 'Gatow': 3,\n",
       " 'Berliner Vorstadt': 1,\n",
       " 'Konradshöhe': 1,\n",
       " 'Stadtrandsiedlung Malchow': 1}"
      ]
     },
     "execution_count": 55,
     "metadata": {},
     "output_type": "execute_result"
    }
   ],
   "source": [
    "dict(df['neighbourhood'].value_counts())"
   ]
  },
  {
   "cell_type": "code",
   "execution_count": 77,
   "metadata": {},
   "outputs": [
    {
     "data": {
      "text/html": [
       "<div>\n",
       "<style scoped>\n",
       "    .dataframe tbody tr th:only-of-type {\n",
       "        vertical-align: middle;\n",
       "    }\n",
       "\n",
       "    .dataframe tbody tr th {\n",
       "        vertical-align: top;\n",
       "    }\n",
       "\n",
       "    .dataframe thead th {\n",
       "        text-align: right;\n",
       "    }\n",
       "</style>\n",
       "<table border=\"1\" class=\"dataframe\">\n",
       "  <thead>\n",
       "    <tr style=\"text-align: right;\">\n",
       "      <th></th>\n",
       "      <th>experiences_offered</th>\n",
       "      <th>latitude</th>\n",
       "      <th>longitude</th>\n",
       "      <th>property_type</th>\n",
       "      <th>room_type</th>\n",
       "      <th>accommodates</th>\n",
       "      <th>bathrooms</th>\n",
       "      <th>bedrooms</th>\n",
       "      <th>price</th>\n",
       "      <th>neighbourhood</th>\n",
       "      <th>minimum_nights</th>\n",
       "      <th>maximum_nights</th>\n",
       "    </tr>\n",
       "  </thead>\n",
       "  <tbody>\n",
       "    <tr>\n",
       "      <th>20</th>\n",
       "      <td>none</td>\n",
       "      <td>52.52195</td>\n",
       "      <td>13.35590</td>\n",
       "      <td>Apartment</td>\n",
       "      <td>Entire home/apt</td>\n",
       "      <td>4</td>\n",
       "      <td>1.0</td>\n",
       "      <td>1.0</td>\n",
       "      <td>62.0</td>\n",
       "      <td>Moabit</td>\n",
       "      <td>3</td>\n",
       "      <td>1125</td>\n",
       "    </tr>\n",
       "    <tr>\n",
       "      <th>87</th>\n",
       "      <td>none</td>\n",
       "      <td>52.53083</td>\n",
       "      <td>13.34221</td>\n",
       "      <td>Apartment</td>\n",
       "      <td>Private room</td>\n",
       "      <td>4</td>\n",
       "      <td>1.0</td>\n",
       "      <td>1.0</td>\n",
       "      <td>36.0</td>\n",
       "      <td>Moabit</td>\n",
       "      <td>2</td>\n",
       "      <td>90</td>\n",
       "    </tr>\n",
       "    <tr>\n",
       "      <th>152</th>\n",
       "      <td>none</td>\n",
       "      <td>52.52183</td>\n",
       "      <td>13.33318</td>\n",
       "      <td>Apartment</td>\n",
       "      <td>Entire home/apt</td>\n",
       "      <td>5</td>\n",
       "      <td>1.0</td>\n",
       "      <td>1.0</td>\n",
       "      <td>175.0</td>\n",
       "      <td>Moabit</td>\n",
       "      <td>3</td>\n",
       "      <td>21</td>\n",
       "    </tr>\n",
       "    <tr>\n",
       "      <th>183</th>\n",
       "      <td>none</td>\n",
       "      <td>52.52387</td>\n",
       "      <td>13.35781</td>\n",
       "      <td>Apartment</td>\n",
       "      <td>Entire home/apt</td>\n",
       "      <td>2</td>\n",
       "      <td>1.0</td>\n",
       "      <td>1.0</td>\n",
       "      <td>45.0</td>\n",
       "      <td>Moabit</td>\n",
       "      <td>3</td>\n",
       "      <td>365</td>\n",
       "    </tr>\n",
       "    <tr>\n",
       "      <th>187</th>\n",
       "      <td>none</td>\n",
       "      <td>52.52826</td>\n",
       "      <td>13.33044</td>\n",
       "      <td>Apartment</td>\n",
       "      <td>Entire home/apt</td>\n",
       "      <td>4</td>\n",
       "      <td>1.0</td>\n",
       "      <td>0.0</td>\n",
       "      <td>63.0</td>\n",
       "      <td>Moabit</td>\n",
       "      <td>2</td>\n",
       "      <td>365</td>\n",
       "    </tr>\n",
       "    <tr>\n",
       "      <th>...</th>\n",
       "      <td>...</td>\n",
       "      <td>...</td>\n",
       "      <td>...</td>\n",
       "      <td>...</td>\n",
       "      <td>...</td>\n",
       "      <td>...</td>\n",
       "      <td>...</td>\n",
       "      <td>...</td>\n",
       "      <td>...</td>\n",
       "      <td>...</td>\n",
       "      <td>...</td>\n",
       "      <td>...</td>\n",
       "    </tr>\n",
       "    <tr>\n",
       "      <th>24577</th>\n",
       "      <td>none</td>\n",
       "      <td>52.53148</td>\n",
       "      <td>13.34982</td>\n",
       "      <td>Apartment</td>\n",
       "      <td>Private room</td>\n",
       "      <td>1</td>\n",
       "      <td>1.0</td>\n",
       "      <td>1.0</td>\n",
       "      <td>50.0</td>\n",
       "      <td>Moabit</td>\n",
       "      <td>5</td>\n",
       "      <td>1125</td>\n",
       "    </tr>\n",
       "    <tr>\n",
       "      <th>24585</th>\n",
       "      <td>none</td>\n",
       "      <td>52.52940</td>\n",
       "      <td>13.33972</td>\n",
       "      <td>Apartment</td>\n",
       "      <td>Entire home/apt</td>\n",
       "      <td>2</td>\n",
       "      <td>1.0</td>\n",
       "      <td>0.0</td>\n",
       "      <td>35.0</td>\n",
       "      <td>Moabit</td>\n",
       "      <td>1</td>\n",
       "      <td>1125</td>\n",
       "    </tr>\n",
       "    <tr>\n",
       "      <th>24640</th>\n",
       "      <td>none</td>\n",
       "      <td>52.52465</td>\n",
       "      <td>13.32070</td>\n",
       "      <td>Loft</td>\n",
       "      <td>Shared room</td>\n",
       "      <td>8</td>\n",
       "      <td>2.0</td>\n",
       "      <td>1.0</td>\n",
       "      <td>10.0</td>\n",
       "      <td>Moabit</td>\n",
       "      <td>1</td>\n",
       "      <td>20</td>\n",
       "    </tr>\n",
       "    <tr>\n",
       "      <th>24646</th>\n",
       "      <td>none</td>\n",
       "      <td>52.53290</td>\n",
       "      <td>13.34943</td>\n",
       "      <td>Apartment</td>\n",
       "      <td>Entire home/apt</td>\n",
       "      <td>6</td>\n",
       "      <td>1.0</td>\n",
       "      <td>1.0</td>\n",
       "      <td>70.0</td>\n",
       "      <td>Moabit</td>\n",
       "      <td>1</td>\n",
       "      <td>1125</td>\n",
       "    </tr>\n",
       "    <tr>\n",
       "      <th>24670</th>\n",
       "      <td>none</td>\n",
       "      <td>52.51874</td>\n",
       "      <td>13.33523</td>\n",
       "      <td>Apartment</td>\n",
       "      <td>Private room</td>\n",
       "      <td>1</td>\n",
       "      <td>1.0</td>\n",
       "      <td>1.0</td>\n",
       "      <td>22.0</td>\n",
       "      <td>Moabit</td>\n",
       "      <td>5</td>\n",
       "      <td>1125</td>\n",
       "    </tr>\n",
       "  </tbody>\n",
       "</table>\n",
       "<p>768 rows × 12 columns</p>\n",
       "</div>"
      ],
      "text/plain": [
       "      experiences_offered  latitude  longitude property_type        room_type  \\\n",
       "20                   none  52.52195   13.35590     Apartment  Entire home/apt   \n",
       "87                   none  52.53083   13.34221     Apartment     Private room   \n",
       "152                  none  52.52183   13.33318     Apartment  Entire home/apt   \n",
       "183                  none  52.52387   13.35781     Apartment  Entire home/apt   \n",
       "187                  none  52.52826   13.33044     Apartment  Entire home/apt   \n",
       "...                   ...       ...        ...           ...              ...   \n",
       "24577                none  52.53148   13.34982     Apartment     Private room   \n",
       "24585                none  52.52940   13.33972     Apartment  Entire home/apt   \n",
       "24640                none  52.52465   13.32070          Loft      Shared room   \n",
       "24646                none  52.53290   13.34943     Apartment  Entire home/apt   \n",
       "24670                none  52.51874   13.33523     Apartment     Private room   \n",
       "\n",
       "       accommodates  bathrooms  bedrooms  price neighbourhood  minimum_nights  \\\n",
       "20                4        1.0       1.0   62.0        Moabit               3   \n",
       "87                4        1.0       1.0   36.0        Moabit               2   \n",
       "152               5        1.0       1.0  175.0        Moabit               3   \n",
       "183               2        1.0       1.0   45.0        Moabit               3   \n",
       "187               4        1.0       0.0   63.0        Moabit               2   \n",
       "...             ...        ...       ...    ...           ...             ...   \n",
       "24577             1        1.0       1.0   50.0        Moabit               5   \n",
       "24585             2        1.0       0.0   35.0        Moabit               1   \n",
       "24640             8        2.0       1.0   10.0        Moabit               1   \n",
       "24646             6        1.0       1.0   70.0        Moabit               1   \n",
       "24670             1        1.0       1.0   22.0        Moabit               5   \n",
       "\n",
       "       maximum_nights  \n",
       "20               1125  \n",
       "87                 90  \n",
       "152                21  \n",
       "183               365  \n",
       "187               365  \n",
       "...               ...  \n",
       "24577            1125  \n",
       "24585            1125  \n",
       "24640              20  \n",
       "24646            1125  \n",
       "24670            1125  \n",
       "\n",
       "[768 rows x 12 columns]"
      ]
     },
     "execution_count": 77,
     "metadata": {},
     "output_type": "execute_result"
    }
   ],
   "source": [
    "neighbourhoods = [\n",
    "    'Neukölln',\n",
    "    'Prenzlauer Berg',\n",
    "    'Friedrichshain',\n",
    "    'Kreuzberg',\n",
    "    'Mitte',\n",
    "    'Wedding',\n",
    "    'Schöneberg',\n",
    "    'Charlottenburg',\n",
    "    'Moabit'\n",
    "]\n",
    "\n",
    "df_1 = pd.DataFrame(columns = list(df.columns))\n",
    "\n",
    "for neighbourhood in neighbourhoods:\n",
    "    df_2 = df.loc[df['neighbourhood'] == neighbourhood]\n",
    "    pd.concat([df_1, df_2])\n",
    "\n",
    "df_2"
   ]
  },
  {
   "cell_type": "code",
   "execution_count": 66,
   "metadata": {},
   "outputs": [
    {
     "data": {
      "text/html": [
       "<div>\n",
       "<style scoped>\n",
       "    .dataframe tbody tr th:only-of-type {\n",
       "        vertical-align: middle;\n",
       "    }\n",
       "\n",
       "    .dataframe tbody tr th {\n",
       "        vertical-align: top;\n",
       "    }\n",
       "\n",
       "    .dataframe thead th {\n",
       "        text-align: right;\n",
       "    }\n",
       "</style>\n",
       "<table border=\"1\" class=\"dataframe\">\n",
       "  <thead>\n",
       "    <tr style=\"text-align: right;\">\n",
       "      <th></th>\n",
       "    </tr>\n",
       "  </thead>\n",
       "  <tbody>\n",
       "  </tbody>\n",
       "</table>\n",
       "</div>"
      ],
      "text/plain": [
       "Empty DataFrame\n",
       "Columns: []\n",
       "Index: []"
      ]
     },
     "execution_count": 66,
     "metadata": {},
     "output_type": "execute_result"
    }
   ],
   "source": [
    "df_neigh"
   ]
  },
  {
   "cell_type": "code",
   "execution_count": 47,
   "metadata": {},
   "outputs": [
    {
     "data": {
      "text/plain": [
       "<matplotlib.axes._subplots.AxesSubplot at 0x1bb4fa5af98>"
      ]
     },
     "execution_count": 47,
     "metadata": {},
     "output_type": "execute_result"
    },
    {
     "data": {
      "image/png": "[encoded data removed]",
      "text/plain": [
       "<Figure size 1080x720 with 1 Axes>"
      ]
     },
     "metadata": {
      "needs_background": "light"
     },
     "output_type": "display_data"
    }
   ],
   "source": [
    "df.plot.line(x='neighbourhood', y='price', figsize=(15,10))"
   ]
  },
  {
   "cell_type": "code",
   "execution_count": null,
   "metadata": {},
   "outputs": [],
   "source": []
  }
 ],
 "metadata": {
  "kernelspec": {
   "display_name": "Python 3",
   "language": "python",
   "name": "python3"
  },
  "language_info": {
   "codemirror_mode": {
    "name": "ipython",
    "version": 3
   },
   "file_extension": ".py",
   "mimetype": "text/x-python",
   "name": "python",
   "nbconvert_exporter": "python",
   "pygments_lexer": "ipython3",
   "version": "3.7.1"
  }
 },
 "nbformat": 4,
 "nbformat_minor": 4
}
